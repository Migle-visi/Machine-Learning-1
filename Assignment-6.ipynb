{
 "cells": [
  {
   "cell_type": "markdown",
   "id": "5bc9be56",
   "metadata": {},
   "source": [
    "## Sentiment Analysis"
   ]
  },
  {
   "cell_type": "markdown",
   "id": "818b3b52",
   "metadata": {},
   "source": [
    "In this exercise we use the IMDb-dataset, which we will use to perform a sentiment analysis. The code below assumes that the data is placed in the same folder as this notebook. We see that the reviews are loaded as a pandas dataframe, and print the beginning of the first few reviews."
   ]
  },
  {
   "cell_type": "code",
   "execution_count": 2,
   "id": "67da3bc0",
   "metadata": {},
   "outputs": [
    {
     "name": "stdout",
     "output_type": "stream",
     "text": [
      "<class 'pandas.core.frame.DataFrame'>\n",
      "                                                   0\n",
      "0  bromwell high is a cartoon comedy . it ran at ...\n",
      "1  story of a man who has unnatural feelings for ...\n",
      "2  homelessness  or houselessness as george carli...\n",
      "3  airport    starts as a brand new luxury    pla...\n",
      "4  brilliant over  acting by lesley ann warren . ...\n"
     ]
    }
   ],
   "source": [
    "import numpy as np\n",
    "import pandas as pd\n",
    "from sklearn.model_selection import train_test_split\n",
    "\n",
    "reviews = pd.read_csv('reviews.txt', header=None)\n",
    "labels = pd.read_csv('labels.txt', header=None)\n",
    "Y = (labels=='positive').astype(np.int_)\n",
    "\n",
    "print(type(reviews))\n",
    "print(reviews.head())"
   ]
  },
  {
   "cell_type": "markdown",
   "id": "4982b946",
   "metadata": {},
   "source": [
    "**(a)** Split the reviews and labels in test, train and validation sets. The train and validation sets will be used to train your model and tune hyperparameters, the test set will be saved for testing. Use the `CountVectorizer` from `sklearn.feature_extraction.text` to create a Bag-of-Words representation of the reviews. Only use the 10,000 most frequent words (use the `max_features`-parameter of `CountVectorizer`)."
   ]
  },
  {
   "cell_type": "code",
   "execution_count": 52,
   "id": "55d0bcad-cecd-4e69-bc2e-092f0d2b1c12",
   "metadata": {},
   "outputs": [
    {
     "name": "stdout",
     "output_type": "stream",
     "text": [
      "Requirement already satisfied: notebook in c:\\users\\derci\\appdata\\local\\programs\\python\\python312\\lib\\site-packages (7.1.3)\n",
      "Requirement already satisfied: tensorflow in c:\\users\\derci\\appdata\\local\\programs\\python\\python312\\lib\\site-packages (2.16.1)\n",
      "Requirement already satisfied: jupyter-server<3,>=2.4.0 in c:\\users\\derci\\appdata\\local\\programs\\python\\python312\\lib\\site-packages (from notebook) (2.13.0)\n",
      "Requirement already satisfied: jupyterlab-server<3,>=2.22.1 in c:\\users\\derci\\appdata\\local\\programs\\python\\python312\\lib\\site-packages (from notebook) (2.25.4)\n",
      "Requirement already satisfied: jupyterlab<4.2,>=4.1.1 in c:\\users\\derci\\appdata\\local\\programs\\python\\python312\\lib\\site-packages (from notebook) (4.1.5)\n",
      "Requirement already satisfied: notebook-shim<0.3,>=0.2 in c:\\users\\derci\\appdata\\local\\programs\\python\\python312\\lib\\site-packages (from notebook) (0.2.4)\n",
      "Requirement already satisfied: tornado>=6.2.0 in c:\\users\\derci\\appdata\\local\\programs\\python\\python312\\lib\\site-packages (from notebook) (6.4)\n",
      "Requirement already satisfied: tensorflow-intel==2.16.1 in c:\\users\\derci\\appdata\\local\\programs\\python\\python312\\lib\\site-packages (from tensorflow) (2.16.1)\n",
      "Requirement already satisfied: absl-py>=1.0.0 in c:\\users\\derci\\appdata\\local\\programs\\python\\python312\\lib\\site-packages (from tensorflow-intel==2.16.1->tensorflow) (2.1.0)\n",
      "Requirement already satisfied: astunparse>=1.6.0 in c:\\users\\derci\\appdata\\local\\programs\\python\\python312\\lib\\site-packages (from tensorflow-intel==2.16.1->tensorflow) (1.6.3)\n",
      "Requirement already satisfied: flatbuffers>=23.5.26 in c:\\users\\derci\\appdata\\local\\programs\\python\\python312\\lib\\site-packages (from tensorflow-intel==2.16.1->tensorflow) (24.3.25)\n",
      "Requirement already satisfied: gast!=0.5.0,!=0.5.1,!=0.5.2,>=0.2.1 in c:\\users\\derci\\appdata\\local\\programs\\python\\python312\\lib\\site-packages (from tensorflow-intel==2.16.1->tensorflow) (0.5.4)\n",
      "Requirement already satisfied: google-pasta>=0.1.1 in c:\\users\\derci\\appdata\\local\\programs\\python\\python312\\lib\\site-packages (from tensorflow-intel==2.16.1->tensorflow) (0.2.0)\n",
      "Requirement already satisfied: h5py>=3.10.0 in c:\\users\\derci\\appdata\\local\\programs\\python\\python312\\lib\\site-packages (from tensorflow-intel==2.16.1->tensorflow) (3.11.0)\n",
      "Requirement already satisfied: libclang>=13.0.0 in c:\\users\\derci\\appdata\\local\\programs\\python\\python312\\lib\\site-packages (from tensorflow-intel==2.16.1->tensorflow) (18.1.1)\n",
      "Requirement already satisfied: ml-dtypes~=0.3.1 in c:\\users\\derci\\appdata\\local\\programs\\python\\python312\\lib\\site-packages (from tensorflow-intel==2.16.1->tensorflow) (0.3.2)\n",
      "Requirement already satisfied: opt-einsum>=2.3.2 in c:\\users\\derci\\appdata\\local\\programs\\python\\python312\\lib\\site-packages (from tensorflow-intel==2.16.1->tensorflow) (3.3.0)\n",
      "Requirement already satisfied: packaging in c:\\users\\derci\\appdata\\local\\programs\\python\\python312\\lib\\site-packages (from tensorflow-intel==2.16.1->tensorflow) (24.0)\n",
      "Requirement already satisfied: protobuf!=4.21.0,!=4.21.1,!=4.21.2,!=4.21.3,!=4.21.4,!=4.21.5,<5.0.0dev,>=3.20.3 in c:\\users\\derci\\appdata\\local\\programs\\python\\python312\\lib\\site-packages (from tensorflow-intel==2.16.1->tensorflow) (4.25.3)\n",
      "Requirement already satisfied: requests<3,>=2.21.0 in c:\\users\\derci\\appdata\\local\\programs\\python\\python312\\lib\\site-packages (from tensorflow-intel==2.16.1->tensorflow) (2.31.0)\n",
      "Requirement already satisfied: setuptools in c:\\users\\derci\\appdata\\local\\programs\\python\\python312\\lib\\site-packages (from tensorflow-intel==2.16.1->tensorflow) (69.5.1)\n",
      "Requirement already satisfied: six>=1.12.0 in c:\\users\\derci\\appdata\\local\\programs\\python\\python312\\lib\\site-packages (from tensorflow-intel==2.16.1->tensorflow) (1.16.0)\n",
      "Requirement already satisfied: termcolor>=1.1.0 in c:\\users\\derci\\appdata\\local\\programs\\python\\python312\\lib\\site-packages (from tensorflow-intel==2.16.1->tensorflow) (2.4.0)\n",
      "Requirement already satisfied: typing-extensions>=3.6.6 in c:\\users\\derci\\appdata\\local\\programs\\python\\python312\\lib\\site-packages (from tensorflow-intel==2.16.1->tensorflow) (4.11.0)\n",
      "Requirement already satisfied: wrapt>=1.11.0 in c:\\users\\derci\\appdata\\local\\programs\\python\\python312\\lib\\site-packages (from tensorflow-intel==2.16.1->tensorflow) (1.16.0)\n",
      "Requirement already satisfied: grpcio<2.0,>=1.24.3 in c:\\users\\derci\\appdata\\local\\programs\\python\\python312\\lib\\site-packages (from tensorflow-intel==2.16.1->tensorflow) (1.63.0)\n",
      "Requirement already satisfied: tensorboard<2.17,>=2.16 in c:\\users\\derci\\appdata\\local\\programs\\python\\python312\\lib\\site-packages (from tensorflow-intel==2.16.1->tensorflow) (2.16.2)\n",
      "Requirement already satisfied: keras>=3.0.0 in c:\\users\\derci\\appdata\\local\\programs\\python\\python312\\lib\\site-packages (from tensorflow-intel==2.16.1->tensorflow) (3.3.3)\n",
      "Requirement already satisfied: numpy<2.0.0,>=1.26.0 in c:\\users\\derci\\appdata\\local\\programs\\python\\python312\\lib\\site-packages (from tensorflow-intel==2.16.1->tensorflow) (1.26.4)\n",
      "Requirement already satisfied: anyio>=3.1.0 in c:\\users\\derci\\appdata\\local\\programs\\python\\python312\\lib\\site-packages (from jupyter-server<3,>=2.4.0->notebook) (4.3.0)\n",
      "Requirement already satisfied: argon2-cffi in c:\\users\\derci\\appdata\\local\\programs\\python\\python312\\lib\\site-packages (from jupyter-server<3,>=2.4.0->notebook) (23.1.0)\n",
      "Requirement already satisfied: jinja2 in c:\\users\\derci\\appdata\\local\\programs\\python\\python312\\lib\\site-packages (from jupyter-server<3,>=2.4.0->notebook) (3.1.3)\n",
      "Requirement already satisfied: jupyter-client>=7.4.4 in c:\\users\\derci\\appdata\\local\\programs\\python\\python312\\lib\\site-packages (from jupyter-server<3,>=2.4.0->notebook) (8.6.1)\n",
      "Requirement already satisfied: jupyter-core!=5.0.*,>=4.12 in c:\\users\\derci\\appdata\\local\\programs\\python\\python312\\lib\\site-packages (from jupyter-server<3,>=2.4.0->notebook) (5.7.2)\n",
      "Requirement already satisfied: jupyter-events>=0.9.0 in c:\\users\\derci\\appdata\\local\\programs\\python\\python312\\lib\\site-packages (from jupyter-server<3,>=2.4.0->notebook) (0.10.0)\n",
      "Requirement already satisfied: jupyter-server-terminals in c:\\users\\derci\\appdata\\local\\programs\\python\\python312\\lib\\site-packages (from jupyter-server<3,>=2.4.0->notebook) (0.5.3)\n",
      "Requirement already satisfied: nbconvert>=6.4.4 in c:\\users\\derci\\appdata\\local\\programs\\python\\python312\\lib\\site-packages (from jupyter-server<3,>=2.4.0->notebook) (7.16.3)\n",
      "Requirement already satisfied: nbformat>=5.3.0 in c:\\users\\derci\\appdata\\local\\programs\\python\\python312\\lib\\site-packages (from jupyter-server<3,>=2.4.0->notebook) (5.10.3)\n",
      "Requirement already satisfied: overrides in c:\\users\\derci\\appdata\\local\\programs\\python\\python312\\lib\\site-packages (from jupyter-server<3,>=2.4.0->notebook) (7.7.0)\n",
      "Requirement already satisfied: prometheus-client in c:\\users\\derci\\appdata\\local\\programs\\python\\python312\\lib\\site-packages (from jupyter-server<3,>=2.4.0->notebook) (0.20.0)\n",
      "Requirement already satisfied: pywinpty in c:\\users\\derci\\appdata\\local\\programs\\python\\python312\\lib\\site-packages (from jupyter-server<3,>=2.4.0->notebook) (2.0.13)\n",
      "Requirement already satisfied: pyzmq>=24 in c:\\users\\derci\\appdata\\local\\programs\\python\\python312\\lib\\site-packages (from jupyter-server<3,>=2.4.0->notebook) (25.1.2)\n",
      "Requirement already satisfied: send2trash>=1.8.2 in c:\\users\\derci\\appdata\\local\\programs\\python\\python312\\lib\\site-packages (from jupyter-server<3,>=2.4.0->notebook) (1.8.2)\n",
      "Requirement already satisfied: terminado>=0.8.3 in c:\\users\\derci\\appdata\\local\\programs\\python\\python312\\lib\\site-packages (from jupyter-server<3,>=2.4.0->notebook) (0.18.1)\n",
      "Requirement already satisfied: traitlets>=5.6.0 in c:\\users\\derci\\appdata\\local\\programs\\python\\python312\\lib\\site-packages (from jupyter-server<3,>=2.4.0->notebook) (5.14.2)\n",
      "Requirement already satisfied: websocket-client in c:\\users\\derci\\appdata\\local\\programs\\python\\python312\\lib\\site-packages (from jupyter-server<3,>=2.4.0->notebook) (1.7.0)\n",
      "Requirement already satisfied: async-lru>=1.0.0 in c:\\users\\derci\\appdata\\local\\programs\\python\\python312\\lib\\site-packages (from jupyterlab<4.2,>=4.1.1->notebook) (2.0.4)\n",
      "Requirement already satisfied: httpx>=0.25.0 in c:\\users\\derci\\appdata\\local\\programs\\python\\python312\\lib\\site-packages (from jupyterlab<4.2,>=4.1.1->notebook) (0.27.0)\n",
      "Requirement already satisfied: ipykernel in c:\\users\\derci\\appdata\\local\\programs\\python\\python312\\lib\\site-packages (from jupyterlab<4.2,>=4.1.1->notebook) (6.29.3)\n",
      "Requirement already satisfied: jupyter-lsp>=2.0.0 in c:\\users\\derci\\appdata\\local\\programs\\python\\python312\\lib\\site-packages (from jupyterlab<4.2,>=4.1.1->notebook) (2.2.4)\n",
      "Requirement already satisfied: babel>=2.10 in c:\\users\\derci\\appdata\\local\\programs\\python\\python312\\lib\\site-packages (from jupyterlab-server<3,>=2.22.1->notebook) (2.14.0)\n",
      "Requirement already satisfied: json5>=0.9.0 in c:\\users\\derci\\appdata\\local\\programs\\python\\python312\\lib\\site-packages (from jupyterlab-server<3,>=2.22.1->notebook) (0.9.24)\n",
      "Requirement already satisfied: jsonschema>=4.18.0 in c:\\users\\derci\\appdata\\local\\programs\\python\\python312\\lib\\site-packages (from jupyterlab-server<3,>=2.22.1->notebook) (4.21.1)\n",
      "Requirement already satisfied: idna>=2.8 in c:\\users\\derci\\appdata\\local\\programs\\python\\python312\\lib\\site-packages (from anyio>=3.1.0->jupyter-server<3,>=2.4.0->notebook) (3.6)\n",
      "Requirement already satisfied: sniffio>=1.1 in c:\\users\\derci\\appdata\\local\\programs\\python\\python312\\lib\\site-packages (from anyio>=3.1.0->jupyter-server<3,>=2.4.0->notebook) (1.3.1)\n",
      "Requirement already satisfied: wheel<1.0,>=0.23.0 in c:\\users\\derci\\appdata\\local\\programs\\python\\python312\\lib\\site-packages (from astunparse>=1.6.0->tensorflow-intel==2.16.1->tensorflow) (0.43.0)\n",
      "Requirement already satisfied: certifi in c:\\users\\derci\\appdata\\local\\programs\\python\\python312\\lib\\site-packages (from httpx>=0.25.0->jupyterlab<4.2,>=4.1.1->notebook) (2024.2.2)\n",
      "Requirement already satisfied: httpcore==1.* in c:\\users\\derci\\appdata\\local\\programs\\python\\python312\\lib\\site-packages (from httpx>=0.25.0->jupyterlab<4.2,>=4.1.1->notebook) (1.0.4)\n",
      "Requirement already satisfied: h11<0.15,>=0.13 in c:\\users\\derci\\appdata\\local\\programs\\python\\python312\\lib\\site-packages (from httpcore==1.*->httpx>=0.25.0->jupyterlab<4.2,>=4.1.1->notebook) (0.14.0)\n",
      "Requirement already satisfied: MarkupSafe>=2.0 in c:\\users\\derci\\appdata\\local\\programs\\python\\python312\\lib\\site-packages (from jinja2->jupyter-server<3,>=2.4.0->notebook) (2.1.5)\n",
      "Requirement already satisfied: attrs>=22.2.0 in c:\\users\\derci\\appdata\\local\\programs\\python\\python312\\lib\\site-packages (from jsonschema>=4.18.0->jupyterlab-server<3,>=2.22.1->notebook) (23.2.0)\n",
      "Requirement already satisfied: jsonschema-specifications>=2023.03.6 in c:\\users\\derci\\appdata\\local\\programs\\python\\python312\\lib\\site-packages (from jsonschema>=4.18.0->jupyterlab-server<3,>=2.22.1->notebook) (2023.12.1)\n",
      "Requirement already satisfied: referencing>=0.28.4 in c:\\users\\derci\\appdata\\local\\programs\\python\\python312\\lib\\site-packages (from jsonschema>=4.18.0->jupyterlab-server<3,>=2.22.1->notebook) (0.34.0)\n",
      "Requirement already satisfied: rpds-py>=0.7.1 in c:\\users\\derci\\appdata\\local\\programs\\python\\python312\\lib\\site-packages (from jsonschema>=4.18.0->jupyterlab-server<3,>=2.22.1->notebook) (0.18.0)\n",
      "Requirement already satisfied: python-dateutil>=2.8.2 in c:\\users\\derci\\appdata\\local\\programs\\python\\python312\\lib\\site-packages (from jupyter-client>=7.4.4->jupyter-server<3,>=2.4.0->notebook) (2.9.0.post0)\n",
      "Requirement already satisfied: platformdirs>=2.5 in c:\\users\\derci\\appdata\\local\\programs\\python\\python312\\lib\\site-packages (from jupyter-core!=5.0.*,>=4.12->jupyter-server<3,>=2.4.0->notebook) (4.2.0)\n",
      "Requirement already satisfied: pywin32>=300 in c:\\users\\derci\\appdata\\local\\programs\\python\\python312\\lib\\site-packages (from jupyter-core!=5.0.*,>=4.12->jupyter-server<3,>=2.4.0->notebook) (306)\n",
      "Requirement already satisfied: python-json-logger>=2.0.4 in c:\\users\\derci\\appdata\\local\\programs\\python\\python312\\lib\\site-packages (from jupyter-events>=0.9.0->jupyter-server<3,>=2.4.0->notebook) (2.0.7)\n",
      "Requirement already satisfied: pyyaml>=5.3 in c:\\users\\derci\\appdata\\local\\programs\\python\\python312\\lib\\site-packages (from jupyter-events>=0.9.0->jupyter-server<3,>=2.4.0->notebook) (6.0.1)\n",
      "Requirement already satisfied: rfc3339-validator in c:\\users\\derci\\appdata\\local\\programs\\python\\python312\\lib\\site-packages (from jupyter-events>=0.9.0->jupyter-server<3,>=2.4.0->notebook) (0.1.4)\n",
      "Requirement already satisfied: rfc3986-validator>=0.1.1 in c:\\users\\derci\\appdata\\local\\programs\\python\\python312\\lib\\site-packages (from jupyter-events>=0.9.0->jupyter-server<3,>=2.4.0->notebook) (0.1.1)\n",
      "Requirement already satisfied: rich in c:\\users\\derci\\appdata\\local\\programs\\python\\python312\\lib\\site-packages (from keras>=3.0.0->tensorflow-intel==2.16.1->tensorflow) (13.7.1)\n",
      "Requirement already satisfied: namex in c:\\users\\derci\\appdata\\local\\programs\\python\\python312\\lib\\site-packages (from keras>=3.0.0->tensorflow-intel==2.16.1->tensorflow) (0.0.8)\n",
      "Requirement already satisfied: optree in c:\\users\\derci\\appdata\\local\\programs\\python\\python312\\lib\\site-packages (from keras>=3.0.0->tensorflow-intel==2.16.1->tensorflow) (0.11.0)\n",
      "Requirement already satisfied: beautifulsoup4 in c:\\users\\derci\\appdata\\local\\programs\\python\\python312\\lib\\site-packages (from nbconvert>=6.4.4->jupyter-server<3,>=2.4.0->notebook) (4.12.3)\n",
      "Requirement already satisfied: bleach!=5.0.0 in c:\\users\\derci\\appdata\\local\\programs\\python\\python312\\lib\\site-packages (from nbconvert>=6.4.4->jupyter-server<3,>=2.4.0->notebook) (6.1.0)\n",
      "Requirement already satisfied: defusedxml in c:\\users\\derci\\appdata\\local\\programs\\python\\python312\\lib\\site-packages (from nbconvert>=6.4.4->jupyter-server<3,>=2.4.0->notebook) (0.7.1)\n",
      "Requirement already satisfied: jupyterlab-pygments in c:\\users\\derci\\appdata\\local\\programs\\python\\python312\\lib\\site-packages (from nbconvert>=6.4.4->jupyter-server<3,>=2.4.0->notebook) (0.3.0)\n",
      "Requirement already satisfied: mistune<4,>=2.0.3 in c:\\users\\derci\\appdata\\local\\programs\\python\\python312\\lib\\site-packages (from nbconvert>=6.4.4->jupyter-server<3,>=2.4.0->notebook) (3.0.2)\n",
      "Requirement already satisfied: nbclient>=0.5.0 in c:\\users\\derci\\appdata\\local\\programs\\python\\python312\\lib\\site-packages (from nbconvert>=6.4.4->jupyter-server<3,>=2.4.0->notebook) (0.10.0)\n",
      "Requirement already satisfied: pandocfilters>=1.4.1 in c:\\users\\derci\\appdata\\local\\programs\\python\\python312\\lib\\site-packages (from nbconvert>=6.4.4->jupyter-server<3,>=2.4.0->notebook) (1.5.1)\n",
      "Requirement already satisfied: pygments>=2.4.1 in c:\\users\\derci\\appdata\\local\\programs\\python\\python312\\lib\\site-packages (from nbconvert>=6.4.4->jupyter-server<3,>=2.4.0->notebook) (2.17.2)\n",
      "Requirement already satisfied: tinycss2 in c:\\users\\derci\\appdata\\local\\programs\\python\\python312\\lib\\site-packages (from nbconvert>=6.4.4->jupyter-server<3,>=2.4.0->notebook) (1.2.1)\n",
      "Requirement already satisfied: fastjsonschema in c:\\users\\derci\\appdata\\local\\programs\\python\\python312\\lib\\site-packages (from nbformat>=5.3.0->jupyter-server<3,>=2.4.0->notebook) (2.19.1)\n",
      "Requirement already satisfied: charset-normalizer<4,>=2 in c:\\users\\derci\\appdata\\local\\programs\\python\\python312\\lib\\site-packages (from requests<3,>=2.21.0->tensorflow-intel==2.16.1->tensorflow) (3.3.2)\n",
      "Requirement already satisfied: urllib3<3,>=1.21.1 in c:\\users\\derci\\appdata\\local\\programs\\python\\python312\\lib\\site-packages (from requests<3,>=2.21.0->tensorflow-intel==2.16.1->tensorflow) (2.2.1)\n",
      "Requirement already satisfied: markdown>=2.6.8 in c:\\users\\derci\\appdata\\local\\programs\\python\\python312\\lib\\site-packages (from tensorboard<2.17,>=2.16->tensorflow-intel==2.16.1->tensorflow) (3.6)\n",
      "Requirement already satisfied: tensorboard-data-server<0.8.0,>=0.7.0 in c:\\users\\derci\\appdata\\local\\programs\\python\\python312\\lib\\site-packages (from tensorboard<2.17,>=2.16->tensorflow-intel==2.16.1->tensorflow) (0.7.2)\n",
      "Requirement already satisfied: werkzeug>=1.0.1 in c:\\users\\derci\\appdata\\local\\programs\\python\\python312\\lib\\site-packages (from tensorboard<2.17,>=2.16->tensorflow-intel==2.16.1->tensorflow) (3.0.3)\n",
      "Requirement already satisfied: argon2-cffi-bindings in c:\\users\\derci\\appdata\\local\\programs\\python\\python312\\lib\\site-packages (from argon2-cffi->jupyter-server<3,>=2.4.0->notebook) (21.2.0)\n",
      "Requirement already satisfied: comm>=0.1.1 in c:\\users\\derci\\appdata\\local\\programs\\python\\python312\\lib\\site-packages (from ipykernel->jupyterlab<4.2,>=4.1.1->notebook) (0.2.2)\n",
      "Requirement already satisfied: debugpy>=1.6.5 in c:\\users\\derci\\appdata\\local\\programs\\python\\python312\\lib\\site-packages (from ipykernel->jupyterlab<4.2,>=4.1.1->notebook) (1.8.1)\n",
      "Requirement already satisfied: ipython>=7.23.1 in c:\\users\\derci\\appdata\\local\\programs\\python\\python312\\lib\\site-packages (from ipykernel->jupyterlab<4.2,>=4.1.1->notebook) (8.22.2)\n",
      "Requirement already satisfied: matplotlib-inline>=0.1 in c:\\users\\derci\\appdata\\local\\programs\\python\\python312\\lib\\site-packages (from ipykernel->jupyterlab<4.2,>=4.1.1->notebook) (0.1.6)\n",
      "Requirement already satisfied: nest-asyncio in c:\\users\\derci\\appdata\\local\\programs\\python\\python312\\lib\\site-packages (from ipykernel->jupyterlab<4.2,>=4.1.1->notebook) (1.6.0)\n",
      "Requirement already satisfied: psutil in c:\\users\\derci\\appdata\\local\\programs\\python\\python312\\lib\\site-packages (from ipykernel->jupyterlab<4.2,>=4.1.1->notebook) (5.9.8)\n",
      "Requirement already satisfied: webencodings in c:\\users\\derci\\appdata\\local\\programs\\python\\python312\\lib\\site-packages (from bleach!=5.0.0->nbconvert>=6.4.4->jupyter-server<3,>=2.4.0->notebook) (0.5.1)\n",
      "Requirement already satisfied: decorator in c:\\users\\derci\\appdata\\local\\programs\\python\\python312\\lib\\site-packages (from ipython>=7.23.1->ipykernel->jupyterlab<4.2,>=4.1.1->notebook) (5.1.1)\n",
      "Requirement already satisfied: jedi>=0.16 in c:\\users\\derci\\appdata\\local\\programs\\python\\python312\\lib\\site-packages (from ipython>=7.23.1->ipykernel->jupyterlab<4.2,>=4.1.1->notebook) (0.19.1)\n",
      "Requirement already satisfied: prompt-toolkit<3.1.0,>=3.0.41 in c:\\users\\derci\\appdata\\local\\programs\\python\\python312\\lib\\site-packages (from ipython>=7.23.1->ipykernel->jupyterlab<4.2,>=4.1.1->notebook) (3.0.43)\n",
      "Requirement already satisfied: stack-data in c:\\users\\derci\\appdata\\local\\programs\\python\\python312\\lib\\site-packages (from ipython>=7.23.1->ipykernel->jupyterlab<4.2,>=4.1.1->notebook) (0.6.3)\n",
      "Requirement already satisfied: colorama in c:\\users\\derci\\appdata\\local\\programs\\python\\python312\\lib\\site-packages (from ipython>=7.23.1->ipykernel->jupyterlab<4.2,>=4.1.1->notebook) (0.4.6)\n",
      "Requirement already satisfied: fqdn in c:\\users\\derci\\appdata\\local\\programs\\python\\python312\\lib\\site-packages (from jsonschema[format-nongpl]>=4.18.0->jupyter-events>=0.9.0->jupyter-server<3,>=2.4.0->notebook) (1.5.1)\n",
      "Requirement already satisfied: isoduration in c:\\users\\derci\\appdata\\local\\programs\\python\\python312\\lib\\site-packages (from jsonschema[format-nongpl]>=4.18.0->jupyter-events>=0.9.0->jupyter-server<3,>=2.4.0->notebook) (20.11.0)\n",
      "Requirement already satisfied: jsonpointer>1.13 in c:\\users\\derci\\appdata\\local\\programs\\python\\python312\\lib\\site-packages (from jsonschema[format-nongpl]>=4.18.0->jupyter-events>=0.9.0->jupyter-server<3,>=2.4.0->notebook) (2.4)\n",
      "Requirement already satisfied: uri-template in c:\\users\\derci\\appdata\\local\\programs\\python\\python312\\lib\\site-packages (from jsonschema[format-nongpl]>=4.18.0->jupyter-events>=0.9.0->jupyter-server<3,>=2.4.0->notebook) (1.3.0)\n",
      "Requirement already satisfied: webcolors>=1.11 in c:\\users\\derci\\appdata\\local\\programs\\python\\python312\\lib\\site-packages (from jsonschema[format-nongpl]>=4.18.0->jupyter-events>=0.9.0->jupyter-server<3,>=2.4.0->notebook) (1.13)\n",
      "Requirement already satisfied: cffi>=1.0.1 in c:\\users\\derci\\appdata\\local\\programs\\python\\python312\\lib\\site-packages (from argon2-cffi-bindings->argon2-cffi->jupyter-server<3,>=2.4.0->notebook) (1.16.0)\n",
      "Requirement already satisfied: soupsieve>1.2 in c:\\users\\derci\\appdata\\local\\programs\\python\\python312\\lib\\site-packages (from beautifulsoup4->nbconvert>=6.4.4->jupyter-server<3,>=2.4.0->notebook) (2.5)\n",
      "Requirement already satisfied: markdown-it-py>=2.2.0 in c:\\users\\derci\\appdata\\local\\programs\\python\\python312\\lib\\site-packages (from rich->keras>=3.0.0->tensorflow-intel==2.16.1->tensorflow) (3.0.0)\n",
      "Requirement already satisfied: pycparser in c:\\users\\derci\\appdata\\local\\programs\\python\\python312\\lib\\site-packages (from cffi>=1.0.1->argon2-cffi-bindings->argon2-cffi->jupyter-server<3,>=2.4.0->notebook) (2.21)\n",
      "Requirement already satisfied: parso<0.9.0,>=0.8.3 in c:\\users\\derci\\appdata\\local\\programs\\python\\python312\\lib\\site-packages (from jedi>=0.16->ipython>=7.23.1->ipykernel->jupyterlab<4.2,>=4.1.1->notebook) (0.8.3)\n",
      "Requirement already satisfied: mdurl~=0.1 in c:\\users\\derci\\appdata\\local\\programs\\python\\python312\\lib\\site-packages (from markdown-it-py>=2.2.0->rich->keras>=3.0.0->tensorflow-intel==2.16.1->tensorflow) (0.1.2)\n",
      "Requirement already satisfied: wcwidth in c:\\users\\derci\\appdata\\local\\programs\\python\\python312\\lib\\site-packages (from prompt-toolkit<3.1.0,>=3.0.41->ipython>=7.23.1->ipykernel->jupyterlab<4.2,>=4.1.1->notebook) (0.2.13)\n",
      "Requirement already satisfied: arrow>=0.15.0 in c:\\users\\derci\\appdata\\local\\programs\\python\\python312\\lib\\site-packages (from isoduration->jsonschema[format-nongpl]>=4.18.0->jupyter-events>=0.9.0->jupyter-server<3,>=2.4.0->notebook) (1.3.0)\n",
      "Requirement already satisfied: executing>=1.2.0 in c:\\users\\derci\\appdata\\local\\programs\\python\\python312\\lib\\site-packages (from stack-data->ipython>=7.23.1->ipykernel->jupyterlab<4.2,>=4.1.1->notebook) (2.0.1)\n",
      "Requirement already satisfied: asttokens>=2.1.0 in c:\\users\\derci\\appdata\\local\\programs\\python\\python312\\lib\\site-packages (from stack-data->ipython>=7.23.1->ipykernel->jupyterlab<4.2,>=4.1.1->notebook) (2.4.1)\n",
      "Requirement already satisfied: pure-eval in c:\\users\\derci\\appdata\\local\\programs\\python\\python312\\lib\\site-packages (from stack-data->ipython>=7.23.1->ipykernel->jupyterlab<4.2,>=4.1.1->notebook) (0.2.2)\n",
      "Requirement already satisfied: types-python-dateutil>=2.8.10 in c:\\users\\derci\\appdata\\local\\programs\\python\\python312\\lib\\site-packages (from arrow>=0.15.0->isoduration->jsonschema[format-nongpl]>=4.18.0->jupyter-events>=0.9.0->jupyter-server<3,>=2.4.0->notebook) (2.9.0.20240316)\n",
      "Requirement already satisfied: tensorflow in c:\\users\\derci\\appdata\\local\\programs\\python\\python312\\lib\\site-packages (2.16.1)\n",
      "Requirement already satisfied: nltk in c:\\users\\derci\\appdata\\local\\programs\\python\\python312\\lib\\site-packages (3.8.1)\n",
      "Requirement already satisfied: tensorflow-intel==2.16.1 in c:\\users\\derci\\appdata\\local\\programs\\python\\python312\\lib\\site-packages (from tensorflow) (2.16.1)\n",
      "Requirement already satisfied: absl-py>=1.0.0 in c:\\users\\derci\\appdata\\local\\programs\\python\\python312\\lib\\site-packages (from tensorflow-intel==2.16.1->tensorflow) (2.1.0)\n",
      "Requirement already satisfied: astunparse>=1.6.0 in c:\\users\\derci\\appdata\\local\\programs\\python\\python312\\lib\\site-packages (from tensorflow-intel==2.16.1->tensorflow) (1.6.3)\n",
      "Requirement already satisfied: flatbuffers>=23.5.26 in c:\\users\\derci\\appdata\\local\\programs\\python\\python312\\lib\\site-packages (from tensorflow-intel==2.16.1->tensorflow) (24.3.25)\n",
      "Requirement already satisfied: gast!=0.5.0,!=0.5.1,!=0.5.2,>=0.2.1 in c:\\users\\derci\\appdata\\local\\programs\\python\\python312\\lib\\site-packages (from tensorflow-intel==2.16.1->tensorflow) (0.5.4)\n",
      "Requirement already satisfied: google-pasta>=0.1.1 in c:\\users\\derci\\appdata\\local\\programs\\python\\python312\\lib\\site-packages (from tensorflow-intel==2.16.1->tensorflow) (0.2.0)\n",
      "Requirement already satisfied: h5py>=3.10.0 in c:\\users\\derci\\appdata\\local\\programs\\python\\python312\\lib\\site-packages (from tensorflow-intel==2.16.1->tensorflow) (3.11.0)\n",
      "Requirement already satisfied: libclang>=13.0.0 in c:\\users\\derci\\appdata\\local\\programs\\python\\python312\\lib\\site-packages (from tensorflow-intel==2.16.1->tensorflow) (18.1.1)\n",
      "Requirement already satisfied: ml-dtypes~=0.3.1 in c:\\users\\derci\\appdata\\local\\programs\\python\\python312\\lib\\site-packages (from tensorflow-intel==2.16.1->tensorflow) (0.3.2)\n",
      "Requirement already satisfied: opt-einsum>=2.3.2 in c:\\users\\derci\\appdata\\local\\programs\\python\\python312\\lib\\site-packages (from tensorflow-intel==2.16.1->tensorflow) (3.3.0)\n",
      "Requirement already satisfied: packaging in c:\\users\\derci\\appdata\\local\\programs\\python\\python312\\lib\\site-packages (from tensorflow-intel==2.16.1->tensorflow) (24.0)\n",
      "Requirement already satisfied: protobuf!=4.21.0,!=4.21.1,!=4.21.2,!=4.21.3,!=4.21.4,!=4.21.5,<5.0.0dev,>=3.20.3 in c:\\users\\derci\\appdata\\local\\programs\\python\\python312\\lib\\site-packages (from tensorflow-intel==2.16.1->tensorflow) (4.25.3)\n",
      "Requirement already satisfied: requests<3,>=2.21.0 in c:\\users\\derci\\appdata\\local\\programs\\python\\python312\\lib\\site-packages (from tensorflow-intel==2.16.1->tensorflow) (2.31.0)\n",
      "Requirement already satisfied: setuptools in c:\\users\\derci\\appdata\\local\\programs\\python\\python312\\lib\\site-packages (from tensorflow-intel==2.16.1->tensorflow) (69.5.1)\n",
      "Requirement already satisfied: six>=1.12.0 in c:\\users\\derci\\appdata\\local\\programs\\python\\python312\\lib\\site-packages (from tensorflow-intel==2.16.1->tensorflow) (1.16.0)\n",
      "Requirement already satisfied: termcolor>=1.1.0 in c:\\users\\derci\\appdata\\local\\programs\\python\\python312\\lib\\site-packages (from tensorflow-intel==2.16.1->tensorflow) (2.4.0)\n",
      "Requirement already satisfied: typing-extensions>=3.6.6 in c:\\users\\derci\\appdata\\local\\programs\\python\\python312\\lib\\site-packages (from tensorflow-intel==2.16.1->tensorflow) (4.11.0)\n",
      "Requirement already satisfied: wrapt>=1.11.0 in c:\\users\\derci\\appdata\\local\\programs\\python\\python312\\lib\\site-packages (from tensorflow-intel==2.16.1->tensorflow) (1.16.0)\n",
      "Requirement already satisfied: grpcio<2.0,>=1.24.3 in c:\\users\\derci\\appdata\\local\\programs\\python\\python312\\lib\\site-packages (from tensorflow-intel==2.16.1->tensorflow) (1.63.0)\n",
      "Requirement already satisfied: tensorboard<2.17,>=2.16 in c:\\users\\derci\\appdata\\local\\programs\\python\\python312\\lib\\site-packages (from tensorflow-intel==2.16.1->tensorflow) (2.16.2)\n",
      "Requirement already satisfied: keras>=3.0.0 in c:\\users\\derci\\appdata\\local\\programs\\python\\python312\\lib\\site-packages (from tensorflow-intel==2.16.1->tensorflow) (3.3.3)\n",
      "Requirement already satisfied: numpy<2.0.0,>=1.26.0 in c:\\users\\derci\\appdata\\local\\programs\\python\\python312\\lib\\site-packages (from tensorflow-intel==2.16.1->tensorflow) (1.26.4)\n",
      "Requirement already satisfied: click in c:\\users\\derci\\appdata\\local\\programs\\python\\python312\\lib\\site-packages (from nltk) (8.1.7)\n",
      "Requirement already satisfied: joblib in c:\\users\\derci\\appdata\\local\\programs\\python\\python312\\lib\\site-packages (from nltk) (1.4.0)\n",
      "Requirement already satisfied: regex>=2021.8.3 in c:\\users\\derci\\appdata\\local\\programs\\python\\python312\\lib\\site-packages (from nltk) (2024.5.10)\n",
      "Requirement already satisfied: tqdm in c:\\users\\derci\\appdata\\local\\programs\\python\\python312\\lib\\site-packages (from nltk) (4.66.4)\n",
      "Requirement already satisfied: colorama in c:\\users\\derci\\appdata\\local\\programs\\python\\python312\\lib\\site-packages (from click->nltk) (0.4.6)\n",
      "Requirement already satisfied: wheel<1.0,>=0.23.0 in c:\\users\\derci\\appdata\\local\\programs\\python\\python312\\lib\\site-packages (from astunparse>=1.6.0->tensorflow-intel==2.16.1->tensorflow) (0.43.0)\n",
      "Requirement already satisfied: rich in c:\\users\\derci\\appdata\\local\\programs\\python\\python312\\lib\\site-packages (from keras>=3.0.0->tensorflow-intel==2.16.1->tensorflow) (13.7.1)\n",
      "Requirement already satisfied: namex in c:\\users\\derci\\appdata\\local\\programs\\python\\python312\\lib\\site-packages (from keras>=3.0.0->tensorflow-intel==2.16.1->tensorflow) (0.0.8)\n",
      "Requirement already satisfied: optree in c:\\users\\derci\\appdata\\local\\programs\\python\\python312\\lib\\site-packages (from keras>=3.0.0->tensorflow-intel==2.16.1->tensorflow) (0.11.0)\n",
      "Requirement already satisfied: charset-normalizer<4,>=2 in c:\\users\\derci\\appdata\\local\\programs\\python\\python312\\lib\\site-packages (from requests<3,>=2.21.0->tensorflow-intel==2.16.1->tensorflow) (3.3.2)\n",
      "Requirement already satisfied: idna<4,>=2.5 in c:\\users\\derci\\appdata\\local\\programs\\python\\python312\\lib\\site-packages (from requests<3,>=2.21.0->tensorflow-intel==2.16.1->tensorflow) (3.6)\n",
      "Requirement already satisfied: urllib3<3,>=1.21.1 in c:\\users\\derci\\appdata\\local\\programs\\python\\python312\\lib\\site-packages (from requests<3,>=2.21.0->tensorflow-intel==2.16.1->tensorflow) (2.2.1)\n",
      "Requirement already satisfied: certifi>=2017.4.17 in c:\\users\\derci\\appdata\\local\\programs\\python\\python312\\lib\\site-packages (from requests<3,>=2.21.0->tensorflow-intel==2.16.1->tensorflow) (2024.2.2)\n",
      "Requirement already satisfied: markdown>=2.6.8 in c:\\users\\derci\\appdata\\local\\programs\\python\\python312\\lib\\site-packages (from tensorboard<2.17,>=2.16->tensorflow-intel==2.16.1->tensorflow) (3.6)\n",
      "Requirement already satisfied: tensorboard-data-server<0.8.0,>=0.7.0 in c:\\users\\derci\\appdata\\local\\programs\\python\\python312\\lib\\site-packages (from tensorboard<2.17,>=2.16->tensorflow-intel==2.16.1->tensorflow) (0.7.2)\n",
      "Requirement already satisfied: werkzeug>=1.0.1 in c:\\users\\derci\\appdata\\local\\programs\\python\\python312\\lib\\site-packages (from tensorboard<2.17,>=2.16->tensorflow-intel==2.16.1->tensorflow) (3.0.3)\n",
      "Requirement already satisfied: MarkupSafe>=2.1.1 in c:\\users\\derci\\appdata\\local\\programs\\python\\python312\\lib\\site-packages (from werkzeug>=1.0.1->tensorboard<2.17,>=2.16->tensorflow-intel==2.16.1->tensorflow) (2.1.5)\n",
      "Requirement already satisfied: markdown-it-py>=2.2.0 in c:\\users\\derci\\appdata\\local\\programs\\python\\python312\\lib\\site-packages (from rich->keras>=3.0.0->tensorflow-intel==2.16.1->tensorflow) (3.0.0)\n",
      "Requirement already satisfied: pygments<3.0.0,>=2.13.0 in c:\\users\\derci\\appdata\\local\\programs\\python\\python312\\lib\\site-packages (from rich->keras>=3.0.0->tensorflow-intel==2.16.1->tensorflow) (2.17.2)\n",
      "Requirement already satisfied: mdurl~=0.1 in c:\\users\\derci\\appdata\\local\\programs\\python\\python312\\lib\\site-packages (from markdown-it-py>=2.2.0->rich->keras>=3.0.0->tensorflow-intel==2.16.1->tensorflow) (0.1.2)\n",
      "Requirement already satisfied: setuptools in c:\\users\\derci\\appdata\\local\\programs\\python\\python312\\lib\\site-packages (69.5.1)\n"
     ]
    }
   ],
   "source": [
    "!pip install notebook tensorflow\n",
    "!pip install tensorflow nltk\n",
    "!pip install setuptools\n",
    "import tensorflow as tf\n",
    "from sklearn.feature_extraction.text import CountVectorizer\n",
    "from sklearn.model_selection import train_test_split\n",
    "\n",
    "# Make labels into 1 .. 2 thingy\n",
    "labels = pd.get_dummies(labels)\n",
    "\n",
    "X_train, X_test, Y_train, Y_test = train_test_split(reviews[0], labels, random_state=7)\n",
    "\n",
    "# Vectorizing the data\n",
    "vectorized = CountVectorizer(max_features=10000)\n",
    "X_train = vectorized.fit_transform(X_train).toarray()\n",
    "X_test = vectorized.transform(X_test).toarray()"
   ]
  },
  {
   "cell_type": "markdown",
   "id": "ebf07ee9",
   "metadata": {},
   "source": [
    "**(b)** Explore the representation of the reviews. How is a single word represented? How about a whole review?"
   ]
  },
  {
   "cell_type": "markdown",
   "id": "31bf64f4",
   "metadata": {},
   "source": [
    "Each row of the matrix corresponds to a document, and each column corresponds to a word in the vocabulary. The matrix contains integer counts of the occurrences of each word in each document."
   ]
  },
  {
   "cell_type": "markdown",
   "id": "c2638fce",
   "metadata": {},
   "source": [
    "**(c)** Train a neural network with a single hidden layer on the dataset, tuning the relevant hyperparameters to optimize accuracy. "
   ]
  },
  {
   "cell_type": "code",
   "execution_count": 43,
   "id": "19f952e5-cfdb-4e9d-8c32-e928871277ef",
   "metadata": {},
   "outputs": [
    {
     "name": "stderr",
     "output_type": "stream",
     "text": [
      "C:\\Users\\derci\\AppData\\Local\\Programs\\Python\\Python312\\Lib\\site-packages\\keras\\src\\layers\\core\\dense.py:87: UserWarning: Do not pass an `input_shape`/`input_dim` argument to a layer. When using Sequential models, prefer using an `Input(shape)` object as the first layer in the model instead.\n",
      "  super().__init__(activity_regularizer=activity_regularizer, **kwargs)\n"
     ]
    },
    {
     "name": "stdout",
     "output_type": "stream",
     "text": [
      "(18750, 10000)\n",
      "(18750, 2)\n",
      "Epoch 1/19\n",
      "\u001b[1m1500/1500\u001b[0m \u001b[32m━━━━━━━━━━━━━━━━━━━━\u001b[0m\u001b[37m\u001b[0m \u001b[1m3s\u001b[0m 2ms/step - accuracy: 0.8030 - loss: 0.4343 - val_accuracy: 0.8773 - val_loss: 0.3192\n",
      "Epoch 2/19\n",
      "\u001b[1m1500/1500\u001b[0m \u001b[32m━━━━━━━━━━━━━━━━━━━━\u001b[0m\u001b[37m\u001b[0m \u001b[1m2s\u001b[0m 1ms/step - accuracy: 0.9390 - loss: 0.1771 - val_accuracy: 0.8757 - val_loss: 0.3514\n",
      "Epoch 3/19\n",
      "\u001b[1m1500/1500\u001b[0m \u001b[32m━━━━━━━━━━━━━━━━━━━━\u001b[0m\u001b[37m\u001b[0m \u001b[1m2s\u001b[0m 1ms/step - accuracy: 0.9618 - loss: 0.1128 - val_accuracy: 0.8659 - val_loss: 0.4425\n",
      "Epoch 4/19\n",
      "\u001b[1m1500/1500\u001b[0m \u001b[32m━━━━━━━━━━━━━━━━━━━━\u001b[0m\u001b[37m\u001b[0m \u001b[1m2s\u001b[0m 1ms/step - accuracy: 0.9740 - loss: 0.0759 - val_accuracy: 0.8640 - val_loss: 0.5094\n",
      "Epoch 5/19\n",
      "\u001b[1m1500/1500\u001b[0m \u001b[32m━━━━━━━━━━━━━━━━━━━━\u001b[0m\u001b[37m\u001b[0m \u001b[1m2s\u001b[0m 1ms/step - accuracy: 0.9845 - loss: 0.0509 - val_accuracy: 0.8667 - val_loss: 0.5775\n",
      "Epoch 6/19\n",
      "\u001b[1m1500/1500\u001b[0m \u001b[32m━━━━━━━━━━━━━━━━━━━━\u001b[0m\u001b[37m\u001b[0m \u001b[1m2s\u001b[0m 1ms/step - accuracy: 0.9913 - loss: 0.0282 - val_accuracy: 0.8688 - val_loss: 0.6536\n",
      "Epoch 7/19\n",
      "\u001b[1m1500/1500\u001b[0m \u001b[32m━━━━━━━━━━━━━━━━━━━━\u001b[0m\u001b[37m\u001b[0m \u001b[1m2s\u001b[0m 1ms/step - accuracy: 0.9971 - loss: 0.0146 - val_accuracy: 0.8629 - val_loss: 0.7567\n",
      "Epoch 8/19\n",
      "\u001b[1m1500/1500\u001b[0m \u001b[32m━━━━━━━━━━━━━━━━━━━━\u001b[0m\u001b[37m\u001b[0m \u001b[1m2s\u001b[0m 1ms/step - accuracy: 0.9965 - loss: 0.0144 - val_accuracy: 0.8499 - val_loss: 0.8990\n",
      "Epoch 9/19\n",
      "\u001b[1m1500/1500\u001b[0m \u001b[32m━━━━━━━━━━━━━━━━━━━━\u001b[0m\u001b[37m\u001b[0m \u001b[1m2s\u001b[0m 1ms/step - accuracy: 0.9950 - loss: 0.0172 - val_accuracy: 0.8608 - val_loss: 0.8698\n",
      "Epoch 10/19\n",
      "\u001b[1m1500/1500\u001b[0m \u001b[32m━━━━━━━━━━━━━━━━━━━━\u001b[0m\u001b[37m\u001b[0m \u001b[1m2s\u001b[0m 1ms/step - accuracy: 0.9980 - loss: 0.0091 - val_accuracy: 0.8637 - val_loss: 0.9263\n",
      "Epoch 11/19\n",
      "\u001b[1m1500/1500\u001b[0m \u001b[32m━━━━━━━━━━━━━━━━━━━━\u001b[0m\u001b[37m\u001b[0m \u001b[1m2s\u001b[0m 1ms/step - accuracy: 0.9992 - loss: 0.0042 - val_accuracy: 0.8608 - val_loss: 1.0472\n",
      "Epoch 12/19\n",
      "\u001b[1m1500/1500\u001b[0m \u001b[32m━━━━━━━━━━━━━━━━━━━━\u001b[0m\u001b[37m\u001b[0m \u001b[1m2s\u001b[0m 1ms/step - accuracy: 0.9999 - loss: 0.0016 - val_accuracy: 0.8613 - val_loss: 1.1091\n",
      "Epoch 13/19\n",
      "\u001b[1m1500/1500\u001b[0m \u001b[32m━━━━━━━━━━━━━━━━━━━━\u001b[0m\u001b[37m\u001b[0m \u001b[1m2s\u001b[0m 1ms/step - accuracy: 0.9999 - loss: 7.8645e-04 - val_accuracy: 0.8613 - val_loss: 1.1488\n",
      "Epoch 14/19\n",
      "\u001b[1m1500/1500\u001b[0m \u001b[32m━━━━━━━━━━━━━━━━━━━━\u001b[0m\u001b[37m\u001b[0m \u001b[1m2s\u001b[0m 1ms/step - accuracy: 0.9996 - loss: 0.0010 - val_accuracy: 0.8645 - val_loss: 1.2902\n",
      "Epoch 15/19\n",
      "\u001b[1m1500/1500\u001b[0m \u001b[32m━━━━━━━━━━━━━━━━━━━━\u001b[0m\u001b[37m\u001b[0m \u001b[1m2s\u001b[0m 1ms/step - accuracy: 0.9995 - loss: 0.0011 - val_accuracy: 0.8635 - val_loss: 1.4019\n",
      "Epoch 16/19\n",
      "\u001b[1m1500/1500\u001b[0m \u001b[32m━━━━━━━━━━━━━━━━━━━━\u001b[0m\u001b[37m\u001b[0m \u001b[1m2s\u001b[0m 1ms/step - accuracy: 0.9963 - loss: 0.0138 - val_accuracy: 0.8629 - val_loss: 1.2499\n",
      "Epoch 17/19\n",
      "\u001b[1m1500/1500\u001b[0m \u001b[32m━━━━━━━━━━━━━━━━━━━━\u001b[0m\u001b[37m\u001b[0m \u001b[1m2s\u001b[0m 1ms/step - accuracy: 0.9977 - loss: 0.0069 - val_accuracy: 0.8603 - val_loss: 1.2912\n",
      "Epoch 18/19\n",
      "\u001b[1m1500/1500\u001b[0m \u001b[32m━━━━━━━━━━━━━━━━━━━━\u001b[0m\u001b[37m\u001b[0m \u001b[1m2s\u001b[0m 1ms/step - accuracy: 0.9992 - loss: 0.0028 - val_accuracy: 0.8539 - val_loss: 1.3053\n",
      "Epoch 19/19\n",
      "\u001b[1m1500/1500\u001b[0m \u001b[32m━━━━━━━━━━━━━━━━━━━━\u001b[0m\u001b[37m\u001b[0m \u001b[1m2s\u001b[0m 1ms/step - accuracy: 0.9987 - loss: 0.0037 - val_accuracy: 0.8632 - val_loss: 1.3226\n"
     ]
    },
    {
     "data": {
      "text/plain": [
       "<keras.src.callbacks.history.History at 0x21b670ee840>"
      ]
     },
     "execution_count": 43,
     "metadata": {},
     "output_type": "execute_result"
    }
   ],
   "source": [
    "from tensorflow.keras.models import Sequential\n",
    "from tensorflow.keras.layers import Dense\n",
    "\n",
    "model = Sequential()\n",
    "\n",
    "# Input Layer using 10 Neurons and ReLU Activation (Non-Linearity)\n",
    "model.add(Dense(10, input_dim=X_train.shape[1], activation=\"relu\"))\n",
    "# Output Layer with 2 classes as prediction\n",
    "model.add(Dense(2, activation=\"softmax\"))\n",
    "model.compile(optimizer='adam', loss='categorical_crossentropy', metrics=['accuracy'])\n",
    "print(X_train.shape)\n",
    "print(Y_train.shape)\n",
    "model.fit(X_train, Y_train, epochs=19, batch_size=10, validation_split=0.2)"
   ]
  },
  {
   "cell_type": "markdown",
   "id": "1fd327a6",
   "metadata": {},
   "source": [
    "**(d)** Test your sentiment-classifier on the test set."
   ]
  },
  {
   "cell_type": "code",
   "execution_count": 44,
   "id": "6a1ca204-ece8-4706-bbee-e93f69558243",
   "metadata": {},
   "outputs": [
    {
     "name": "stdout",
     "output_type": "stream",
     "text": [
      "\u001b[1m196/196\u001b[0m \u001b[32m━━━━━━━━━━━━━━━━━━━━\u001b[0m\u001b[37m\u001b[0m \u001b[1m0s\u001b[0m 967us/step - accuracy: 0.8736 - loss: 1.1756\n",
      "Test accuracy: 0.8674\n"
     ]
    }
   ],
   "source": [
    "test_loss, test_accuracy = model.evaluate(X_test, Y_test)\n",
    "print(f'Test accuracy: {test_accuracy:.4f}')"
   ]
  },
  {
   "cell_type": "markdown",
   "id": "fd44ee62",
   "metadata": {},
   "source": [
    "**(e)** Use the classifier to classify a few sentences you write yourselves. "
   ]
  },
  {
   "cell_type": "code",
   "execution_count": 50,
   "id": "f596535c-981a-4030-a8d8-90de7de2d909",
   "metadata": {},
   "outputs": [
    {
     "name": "stdout",
     "output_type": "stream",
     "text": [
      "\u001b[1m1/1\u001b[0m \u001b[32m━━━━━━━━━━━━━━━━━━━━\u001b[0m\u001b[37m\u001b[0m \u001b[1m0s\u001b[0m 16ms/step\n",
      "Review: 'Adam Sandler' => Predicted label: '0_negative'\n",
      "Review: 'The plot was interisting' => Predicted label: '0_positive'\n",
      "Review: 'That thing was amazing' => Predicted label: '0_positive'\n",
      "Review: 'LETS GO' => Predicted label: '0_positive'\n",
      "Review: 'That was just like Seven Deadly Sins Season 3' => Predicted label: '0_negative'\n",
      "Review: 'So predictable' => Predicted label: '0_negative'\n"
     ]
    }
   ],
   "source": [
    "new_reviews = [\"Adam Sandler\", \"The plot was interisting\", \"That thing was amazing\", \"LETS GO\", \"That was just like Seven Deadly Sins Season 3\", \"So predictable\"]\n",
    "new_reviews_vectorized = vectorized.transform(new_reviews).toarray()\n",
    "predictions = model.predict(new_reviews_vectorized)\n",
    "predicted_labels = labels.columns[np.argmax(predictions, axis=1)]\n",
    "\n",
    "for review, label in zip(new_reviews, predicted_labels):\n",
    "    print(f\"Review: '{review}' => Predicted label: '{label}'\")"
   ]
  },
  {
   "cell_type": "code",
   "execution_count": null,
   "id": "94315abd-67c9-47ee-bfca-eff110b7c113",
   "metadata": {},
   "outputs": [],
   "source": []
  }
 ],
 "metadata": {
  "kernelspec": {
   "display_name": "Python 3 (ipykernel)",
   "language": "python",
   "name": "python3"
  },
  "language_info": {
   "codemirror_mode": {
    "name": "ipython",
    "version": 3
   },
   "file_extension": ".py",
   "mimetype": "text/x-python",
   "name": "python",
   "nbconvert_exporter": "python",
   "pygments_lexer": "ipython3",
   "version": "3.12.2"
  }
 },
 "nbformat": 4,
 "nbformat_minor": 5
}
